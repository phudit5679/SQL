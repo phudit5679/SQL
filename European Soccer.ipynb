{
 "cells": [
  {
   "cell_type": "markdown",
   "id": "af8c52d1",
   "metadata": {},
   "source": [
    "### Connect to the database"
   ]
  },
  {
   "cell_type": "code",
   "execution_count": 1,
   "id": "ffe60b33",
   "metadata": {},
   "outputs": [],
   "source": [
    "import sqlite3 \n",
    "\n",
    "path = \"D:/project/\"  \n",
    "db = path + 'database.sqlite'\n",
    "conn = sqlite3.connect(db)"
   ]
  },
  {
   "cell_type": "code",
   "execution_count": 2,
   "id": "28543f69",
   "metadata": {},
   "outputs": [],
   "source": [
    "%load_ext sql"
   ]
  },
  {
   "cell_type": "code",
   "execution_count": 3,
   "id": "45236e9d",
   "metadata": {},
   "outputs": [],
   "source": [
    "%sql sqlite:///{db}"
   ]
  },
  {
   "cell_type": "markdown",
   "id": "1a2a584f",
   "metadata": {},
   "source": [
    "### Retrieve Table Names in the Database"
   ]
  },
  {
   "cell_type": "code",
   "execution_count": 4,
   "id": "4fcfd83c",
   "metadata": {},
   "outputs": [
    {
     "name": "stdout",
     "output_type": "stream",
     "text": [
      " * sqlite:///D:/project/database.sqlite\n",
      "Done.\n"
     ]
    },
    {
     "data": {
      "text/html": [
       "<table>\n",
       "    <thead>\n",
       "        <tr>\n",
       "            <th>name</th>\n",
       "        </tr>\n",
       "    </thead>\n",
       "    <tbody>\n",
       "        <tr>\n",
       "            <td>sqlite_sequence</td>\n",
       "        </tr>\n",
       "        <tr>\n",
       "            <td>Player_Attributes</td>\n",
       "        </tr>\n",
       "        <tr>\n",
       "            <td>Player</td>\n",
       "        </tr>\n",
       "        <tr>\n",
       "            <td>Match</td>\n",
       "        </tr>\n",
       "        <tr>\n",
       "            <td>League</td>\n",
       "        </tr>\n",
       "        <tr>\n",
       "            <td>Country</td>\n",
       "        </tr>\n",
       "        <tr>\n",
       "            <td>Team</td>\n",
       "        </tr>\n",
       "        <tr>\n",
       "            <td>Team_Attributes</td>\n",
       "        </tr>\n",
       "    </tbody>\n",
       "</table>"
      ],
      "text/plain": [
       "[('sqlite_sequence',),\n",
       " ('Player_Attributes',),\n",
       " ('Player',),\n",
       " ('Match',),\n",
       " ('League',),\n",
       " ('Country',),\n",
       " ('Team',),\n",
       " ('Team_Attributes',)]"
      ]
     },
     "execution_count": 4,
     "metadata": {},
     "output_type": "execute_result"
    }
   ],
   "source": [
    "%sql SELECT name FROM sqlite_master WHERE type='table'"
   ]
  },
  {
   "cell_type": "markdown",
   "id": "2c03950d",
   "metadata": {},
   "source": [
    "### 1. List of Leagues by Country"
   ]
  },
  {
   "cell_type": "code",
   "execution_count": 5,
   "id": "4d7573c0",
   "metadata": {},
   "outputs": [
    {
     "name": "stdout",
     "output_type": "stream",
     "text": [
      " * sqlite:///D:/project/database.sqlite\n",
      "Done.\n"
     ]
    },
    {
     "data": {
      "text/html": [
       "<table>\n",
       "    <thead>\n",
       "        <tr>\n",
       "            <th>country_name</th>\n",
       "            <th>leage_name</th>\n",
       "        </tr>\n",
       "    </thead>\n",
       "    <tbody>\n",
       "        <tr>\n",
       "            <td>Belgium</td>\n",
       "            <td>Belgium Jupiler League</td>\n",
       "        </tr>\n",
       "        <tr>\n",
       "            <td>England</td>\n",
       "            <td>England Premier League</td>\n",
       "        </tr>\n",
       "        <tr>\n",
       "            <td>France</td>\n",
       "            <td>France Ligue 1</td>\n",
       "        </tr>\n",
       "        <tr>\n",
       "            <td>Germany</td>\n",
       "            <td>Germany 1. Bundesliga</td>\n",
       "        </tr>\n",
       "        <tr>\n",
       "            <td>Italy</td>\n",
       "            <td>Italy Serie A</td>\n",
       "        </tr>\n",
       "        <tr>\n",
       "            <td>Netherlands</td>\n",
       "            <td>Netherlands Eredivisie</td>\n",
       "        </tr>\n",
       "        <tr>\n",
       "            <td>Poland</td>\n",
       "            <td>Poland Ekstraklasa</td>\n",
       "        </tr>\n",
       "        <tr>\n",
       "            <td>Portugal</td>\n",
       "            <td>Portugal Liga ZON Sagres</td>\n",
       "        </tr>\n",
       "        <tr>\n",
       "            <td>Scotland</td>\n",
       "            <td>Scotland Premier League</td>\n",
       "        </tr>\n",
       "        <tr>\n",
       "            <td>Spain</td>\n",
       "            <td>Spain LIGA BBVA</td>\n",
       "        </tr>\n",
       "        <tr>\n",
       "            <td>Switzerland</td>\n",
       "            <td>Switzerland Super League</td>\n",
       "        </tr>\n",
       "    </tbody>\n",
       "</table>"
      ],
      "text/plain": [
       "[('Belgium', 'Belgium Jupiler League'),\n",
       " ('England', 'England Premier League'),\n",
       " ('France', 'France Ligue 1'),\n",
       " ('Germany', 'Germany 1. Bundesliga'),\n",
       " ('Italy', 'Italy Serie A'),\n",
       " ('Netherlands', 'Netherlands Eredivisie'),\n",
       " ('Poland', 'Poland Ekstraklasa'),\n",
       " ('Portugal', 'Portugal Liga ZON Sagres'),\n",
       " ('Scotland', 'Scotland Premier League'),\n",
       " ('Spain', 'Spain LIGA BBVA'),\n",
       " ('Switzerland', 'Switzerland Super League')]"
      ]
     },
     "execution_count": 5,
     "metadata": {},
     "output_type": "execute_result"
    }
   ],
   "source": [
    "%%sql SELECT c.name AS country_name, l.name AS leage_name FROM Country c\n",
    "JOIN League l\n",
    "ON c.id = l.country_id;"
   ]
  },
  {
   "cell_type": "markdown",
   "id": "59dea61d",
   "metadata": {},
   "source": [
    "### 2. Number of teams in each league"
   ]
  },
  {
   "cell_type": "code",
   "execution_count": 6,
   "id": "69c9befc",
   "metadata": {},
   "outputs": [
    {
     "name": "stdout",
     "output_type": "stream",
     "text": [
      " * sqlite:///D:/project/database.sqlite\n",
      "Done.\n"
     ]
    },
    {
     "data": {
      "text/html": [
       "<table>\n",
       "    <thead>\n",
       "        <tr>\n",
       "            <th>league_name</th>\n",
       "            <th>team_count</th>\n",
       "        </tr>\n",
       "    </thead>\n",
       "    <tbody>\n",
       "        <tr>\n",
       "            <td>France Ligue 1</td>\n",
       "            <td>35</td>\n",
       "        </tr>\n",
       "        <tr>\n",
       "            <td>England Premier League</td>\n",
       "            <td>34</td>\n",
       "        </tr>\n",
       "        <tr>\n",
       "            <td>Spain LIGA BBVA</td>\n",
       "            <td>33</td>\n",
       "        </tr>\n",
       "        <tr>\n",
       "            <td>Italy Serie A</td>\n",
       "            <td>32</td>\n",
       "        </tr>\n",
       "        <tr>\n",
       "            <td>Germany 1. Bundesliga</td>\n",
       "            <td>30</td>\n",
       "        </tr>\n",
       "        <tr>\n",
       "            <td>Portugal Liga ZON Sagres</td>\n",
       "            <td>29</td>\n",
       "        </tr>\n",
       "        <tr>\n",
       "            <td>Netherlands Eredivisie</td>\n",
       "            <td>25</td>\n",
       "        </tr>\n",
       "        <tr>\n",
       "            <td>Belgium Jupiler League</td>\n",
       "            <td>25</td>\n",
       "        </tr>\n",
       "        <tr>\n",
       "            <td>Poland Ekstraklasa</td>\n",
       "            <td>24</td>\n",
       "        </tr>\n",
       "        <tr>\n",
       "            <td>Scotland Premier League</td>\n",
       "            <td>17</td>\n",
       "        </tr>\n",
       "        <tr>\n",
       "            <td>Switzerland Super League</td>\n",
       "            <td>15</td>\n",
       "        </tr>\n",
       "    </tbody>\n",
       "</table>"
      ],
      "text/plain": [
       "[('France Ligue 1', 35),\n",
       " ('England Premier League', 34),\n",
       " ('Spain LIGA BBVA', 33),\n",
       " ('Italy Serie A', 32),\n",
       " ('Germany 1. Bundesliga', 30),\n",
       " ('Portugal Liga ZON Sagres', 29),\n",
       " ('Netherlands Eredivisie', 25),\n",
       " ('Belgium Jupiler League', 25),\n",
       " ('Poland Ekstraklasa', 24),\n",
       " ('Scotland Premier League', 17),\n",
       " ('Switzerland Super League', 15)]"
      ]
     },
     "execution_count": 6,
     "metadata": {},
     "output_type": "execute_result"
    }
   ],
   "source": [
    "%%sql\n",
    "SELECT l.name AS league_name, COUNT(DISTINCT t.team_api_id) AS team_count\n",
    "FROM League l\n",
    "JOIN Match m ON l.id = m.league_id\n",
    "JOIN Team t ON m.home_team_api_id = t.team_api_id\n",
    "GROUP BY l.name\n",
    "ORDER BY team_count DESC;"
   ]
  },
  {
   "cell_type": "markdown",
   "id": "138fd692",
   "metadata": {},
   "source": [
    "### 3. Top 10 players ranked by overall rating"
   ]
  },
  {
   "cell_type": "code",
   "execution_count": 7,
   "id": "650f09d0",
   "metadata": {},
   "outputs": [
    {
     "name": "stdout",
     "output_type": "stream",
     "text": [
      " * sqlite:///D:/project/database.sqlite\n",
      "Done.\n"
     ]
    },
    {
     "data": {
      "text/html": [
       "<table>\n",
       "    <thead>\n",
       "        <tr>\n",
       "            <th>player_name</th>\n",
       "            <th>overall_rating</th>\n",
       "        </tr>\n",
       "    </thead>\n",
       "    <tbody>\n",
       "        <tr>\n",
       "            <td>Lionel Messi</td>\n",
       "            <td>94</td>\n",
       "        </tr>\n",
       "        <tr>\n",
       "            <td>Wayne Rooney</td>\n",
       "            <td>93</td>\n",
       "        </tr>\n",
       "        <tr>\n",
       "            <td>Gianluigi Buffon</td>\n",
       "            <td>93</td>\n",
       "        </tr>\n",
       "        <tr>\n",
       "            <td>Cristiano Ronaldo</td>\n",
       "            <td>93</td>\n",
       "        </tr>\n",
       "        <tr>\n",
       "            <td>Xavi Hernandez</td>\n",
       "            <td>92</td>\n",
       "        </tr>\n",
       "        <tr>\n",
       "            <td>Gregory Coupet</td>\n",
       "            <td>92</td>\n",
       "        </tr>\n",
       "        <tr>\n",
       "            <td>Thierry Henry</td>\n",
       "            <td>91</td>\n",
       "        </tr>\n",
       "        <tr>\n",
       "            <td>Ronaldinho</td>\n",
       "            <td>91</td>\n",
       "        </tr>\n",
       "        <tr>\n",
       "            <td>John Terry</td>\n",
       "            <td>91</td>\n",
       "        </tr>\n",
       "        <tr>\n",
       "            <td>Iker Casillas</td>\n",
       "            <td>91</td>\n",
       "        </tr>\n",
       "    </tbody>\n",
       "</table>"
      ],
      "text/plain": [
       "[('Lionel Messi', 94),\n",
       " ('Wayne Rooney', 93),\n",
       " ('Gianluigi Buffon', 93),\n",
       " ('Cristiano Ronaldo', 93),\n",
       " ('Xavi Hernandez', 92),\n",
       " ('Gregory Coupet', 92),\n",
       " ('Thierry Henry', 91),\n",
       " ('Ronaldinho', 91),\n",
       " ('John Terry', 91),\n",
       " ('Iker Casillas', 91)]"
      ]
     },
     "execution_count": 7,
     "metadata": {},
     "output_type": "execute_result"
    }
   ],
   "source": [
    "%%sql\n",
    "SELECT p.player_name, MAX(pa.overall_rating)AS overall_rating FROM Player_Attributes pa,Player p\n",
    "WHERE pa.player_api_id = p.player_api_id\n",
    "GROUP BY p.player_name\n",
    "ORDER BY overall_rating DESC LIMIT 10;"
   ]
  },
  {
   "cell_type": "markdown",
   "id": "149b612f",
   "metadata": {},
   "source": [
    "### 4. Top 10 teams with the most wins in all seasons"
   ]
  },
  {
   "cell_type": "code",
   "execution_count": 8,
   "id": "dac78347",
   "metadata": {},
   "outputs": [
    {
     "name": "stdout",
     "output_type": "stream",
     "text": [
      " * sqlite:///D:/project/database.sqlite\n",
      "Done.\n"
     ]
    },
    {
     "data": {
      "text/html": [
       "<table>\n",
       "    <thead>\n",
       "        <tr>\n",
       "            <th>team_long_name</th>\n",
       "            <th>total_win</th>\n",
       "        </tr>\n",
       "    </thead>\n",
       "    <tbody>\n",
       "        <tr>\n",
       "            <td>FC Barcelona</td>\n",
       "            <td>234</td>\n",
       "        </tr>\n",
       "        <tr>\n",
       "            <td>Real Madrid CF</td>\n",
       "            <td>228</td>\n",
       "        </tr>\n",
       "        <tr>\n",
       "            <td>Celtic</td>\n",
       "            <td>218</td>\n",
       "        </tr>\n",
       "        <tr>\n",
       "            <td>FC Bayern Munich</td>\n",
       "            <td>193</td>\n",
       "        </tr>\n",
       "        <tr>\n",
       "            <td>Manchester United</td>\n",
       "            <td>192</td>\n",
       "        </tr>\n",
       "        <tr>\n",
       "            <td>Juventus</td>\n",
       "            <td>189</td>\n",
       "        </tr>\n",
       "        <tr>\n",
       "            <td>SL Benfica</td>\n",
       "            <td>185</td>\n",
       "        </tr>\n",
       "        <tr>\n",
       "            <td>FC Porto</td>\n",
       "            <td>183</td>\n",
       "        </tr>\n",
       "        <tr>\n",
       "            <td>Ajax</td>\n",
       "            <td>181</td>\n",
       "        </tr>\n",
       "        <tr>\n",
       "            <td>FC Basel</td>\n",
       "            <td>180</td>\n",
       "        </tr>\n",
       "    </tbody>\n",
       "</table>"
      ],
      "text/plain": [
       "[('FC Barcelona', 234),\n",
       " ('Real Madrid CF', 228),\n",
       " ('Celtic', 218),\n",
       " ('FC Bayern Munich', 193),\n",
       " ('Manchester United', 192),\n",
       " ('Juventus', 189),\n",
       " ('SL Benfica', 185),\n",
       " ('FC Porto', 183),\n",
       " ('Ajax', 181),\n",
       " ('FC Basel', 180)]"
      ]
     },
     "execution_count": 8,
     "metadata": {},
     "output_type": "execute_result"
    }
   ],
   "source": [
    "%%sql\n",
    "SELECT t.team_long_name, COUNT(DISTINCT m.match_api_id) AS total_win\n",
    "FROM Match m\n",
    "JOIN Team t \n",
    "ON t.team_api_id = m.home_team_api_id OR t.team_api_id = m.away_team_api_id\n",
    "WHERE \n",
    "(m.home_team_goal > m.away_team_goal AND t.team_api_id = m.home_team_api_id) OR\n",
    "(m.away_team_goal > m.home_team_goal AND t.team_api_id = m.away_team_api_id)\n",
    "GROUP BY \n",
    "t.team_long_name\n",
    "ORDER BY \n",
    "total_win DESC\n",
    "LIMIT 10;"
   ]
  },
  {
   "cell_type": "markdown",
   "id": "5e7592df",
   "metadata": {},
   "source": [
    "### 5. Top 10 teams with the most wins in the 2015/2016 season"
   ]
  },
  {
   "cell_type": "code",
   "execution_count": 9,
   "id": "da19052a",
   "metadata": {},
   "outputs": [
    {
     "name": "stdout",
     "output_type": "stream",
     "text": [
      " * sqlite:///D:/project/database.sqlite\n",
      "Done.\n"
     ]
    },
    {
     "data": {
      "text/html": [
       "<table>\n",
       "    <thead>\n",
       "        <tr>\n",
       "            <th>team_long_name</th>\n",
       "            <th>total_wins</th>\n",
       "        </tr>\n",
       "    </thead>\n",
       "    <tbody>\n",
       "        <tr>\n",
       "            <td>Paris Saint-Germain</td>\n",
       "            <td>30</td>\n",
       "        </tr>\n",
       "        <tr>\n",
       "            <td>SL Benfica</td>\n",
       "            <td>29</td>\n",
       "        </tr>\n",
       "        <tr>\n",
       "            <td>Juventus</td>\n",
       "            <td>29</td>\n",
       "        </tr>\n",
       "        <tr>\n",
       "            <td>FC Barcelona</td>\n",
       "            <td>29</td>\n",
       "        </tr>\n",
       "        <tr>\n",
       "            <td>Real Madrid CF</td>\n",
       "            <td>28</td>\n",
       "        </tr>\n",
       "        <tr>\n",
       "            <td>FC Bayern Munich</td>\n",
       "            <td>28</td>\n",
       "        </tr>\n",
       "        <tr>\n",
       "            <td>Atlético Madrid</td>\n",
       "            <td>28</td>\n",
       "        </tr>\n",
       "        <tr>\n",
       "            <td>Sporting CP</td>\n",
       "            <td>27</td>\n",
       "        </tr>\n",
       "        <tr>\n",
       "            <td>PSV</td>\n",
       "            <td>26</td>\n",
       "        </tr>\n",
       "        <tr>\n",
       "            <td>FC Basel</td>\n",
       "            <td>26</td>\n",
       "        </tr>\n",
       "    </tbody>\n",
       "</table>"
      ],
      "text/plain": [
       "[('Paris Saint-Germain', 30),\n",
       " ('SL Benfica', 29),\n",
       " ('Juventus', 29),\n",
       " ('FC Barcelona', 29),\n",
       " ('Real Madrid CF', 28),\n",
       " ('FC Bayern Munich', 28),\n",
       " ('Atlético Madrid', 28),\n",
       " ('Sporting CP', 27),\n",
       " ('PSV', 26),\n",
       " ('FC Basel', 26)]"
      ]
     },
     "execution_count": 9,
     "metadata": {},
     "output_type": "execute_result"
    }
   ],
   "source": [
    "%%sql\n",
    "SELECT t.team_long_name, COUNT(DISTINCT m.match_api_id) AS total_wins\n",
    "FROM Match m\n",
    "JOIN Team t \n",
    "ON t.team_api_id = m.home_team_api_id OR t.team_api_id = m.away_team_api_id\n",
    "WHERE \n",
    "((m.home_team_goal > m.away_team_goal AND t.team_api_id = m.home_team_api_id) OR\n",
    "(m.away_team_goal > m.home_team_goal AND t.team_api_id = m.away_team_api_id))\n",
    "AND m.season = '2015/2016'\n",
    "GROUP BY \n",
    "t.team_long_name\n",
    "ORDER BY \n",
    "total_wins DESC\n",
    "LIMIT 10;"
   ]
  },
  {
   "cell_type": "markdown",
   "id": "a7dfb76e",
   "metadata": {},
   "source": [
    "### 6. Number of wins for Manchester United per season."
   ]
  },
  {
   "cell_type": "code",
   "execution_count": 10,
   "id": "706bed88",
   "metadata": {},
   "outputs": [
    {
     "name": "stdout",
     "output_type": "stream",
     "text": [
      " * sqlite:///D:/project/database.sqlite\n",
      "Done.\n"
     ]
    },
    {
     "data": {
      "text/html": [
       "<table>\n",
       "    <thead>\n",
       "        <tr>\n",
       "            <th>season</th>\n",
       "            <th>team_long_name</th>\n",
       "            <th>total_wins</th>\n",
       "        </tr>\n",
       "    </thead>\n",
       "    <tbody>\n",
       "        <tr>\n",
       "            <td>2008/2009</td>\n",
       "            <td>Manchester United</td>\n",
       "            <td>28</td>\n",
       "        </tr>\n",
       "        <tr>\n",
       "            <td>2009/2010</td>\n",
       "            <td>Manchester United</td>\n",
       "            <td>27</td>\n",
       "        </tr>\n",
       "        <tr>\n",
       "            <td>2010/2011</td>\n",
       "            <td>Manchester United</td>\n",
       "            <td>23</td>\n",
       "        </tr>\n",
       "        <tr>\n",
       "            <td>2011/2012</td>\n",
       "            <td>Manchester United</td>\n",
       "            <td>28</td>\n",
       "        </tr>\n",
       "        <tr>\n",
       "            <td>2012/2013</td>\n",
       "            <td>Manchester United</td>\n",
       "            <td>28</td>\n",
       "        </tr>\n",
       "        <tr>\n",
       "            <td>2013/2014</td>\n",
       "            <td>Manchester United</td>\n",
       "            <td>19</td>\n",
       "        </tr>\n",
       "        <tr>\n",
       "            <td>2014/2015</td>\n",
       "            <td>Manchester United</td>\n",
       "            <td>20</td>\n",
       "        </tr>\n",
       "        <tr>\n",
       "            <td>2015/2016</td>\n",
       "            <td>Manchester United</td>\n",
       "            <td>19</td>\n",
       "        </tr>\n",
       "    </tbody>\n",
       "</table>"
      ],
      "text/plain": [
       "[('2008/2009', 'Manchester United', 28),\n",
       " ('2009/2010', 'Manchester United', 27),\n",
       " ('2010/2011', 'Manchester United', 23),\n",
       " ('2011/2012', 'Manchester United', 28),\n",
       " ('2012/2013', 'Manchester United', 28),\n",
       " ('2013/2014', 'Manchester United', 19),\n",
       " ('2014/2015', 'Manchester United', 20),\n",
       " ('2015/2016', 'Manchester United', 19)]"
      ]
     },
     "execution_count": 10,
     "metadata": {},
     "output_type": "execute_result"
    }
   ],
   "source": [
    "%%sql\n",
    "SELECT m.season,t.team_long_name, COUNT(DISTINCT m.match_api_id) AS total_wins\n",
    "FROM Match m\n",
    "JOIN Team t \n",
    "ON t.team_api_id = m.home_team_api_id OR t.team_api_id = m.away_team_api_id\n",
    "WHERE \n",
    "((m.home_team_goal > m.away_team_goal AND t.team_api_id = m.home_team_api_id) OR\n",
    "(m.away_team_goal > m.home_team_goal AND t.team_api_id = m.away_team_api_id))\n",
    "AND t.team_long_name = 'Manchester United'\n",
    "GROUP BY t.team_long_name, m.season;"
   ]
  },
  {
   "cell_type": "markdown",
   "id": "ca15f5b0",
   "metadata": {},
   "source": [
    "### 7. Number of home wins for Manchester United per season."
   ]
  },
  {
   "cell_type": "code",
   "execution_count": 11,
   "id": "d1049cbc",
   "metadata": {},
   "outputs": [
    {
     "name": "stdout",
     "output_type": "stream",
     "text": [
      " * sqlite:///D:/project/database.sqlite\n",
      "Done.\n"
     ]
    },
    {
     "data": {
      "text/html": [
       "<table>\n",
       "    <thead>\n",
       "        <tr>\n",
       "            <th>season</th>\n",
       "            <th>team_long_name</th>\n",
       "            <th>home_win</th>\n",
       "        </tr>\n",
       "    </thead>\n",
       "    <tbody>\n",
       "        <tr>\n",
       "            <td>2008/2009</td>\n",
       "            <td>Manchester United</td>\n",
       "            <td>16</td>\n",
       "        </tr>\n",
       "        <tr>\n",
       "            <td>2009/2010</td>\n",
       "            <td>Manchester United</td>\n",
       "            <td>16</td>\n",
       "        </tr>\n",
       "        <tr>\n",
       "            <td>2010/2011</td>\n",
       "            <td>Manchester United</td>\n",
       "            <td>18</td>\n",
       "        </tr>\n",
       "        <tr>\n",
       "            <td>2011/2012</td>\n",
       "            <td>Manchester United</td>\n",
       "            <td>15</td>\n",
       "        </tr>\n",
       "        <tr>\n",
       "            <td>2012/2013</td>\n",
       "            <td>Manchester United</td>\n",
       "            <td>16</td>\n",
       "        </tr>\n",
       "        <tr>\n",
       "            <td>2013/2014</td>\n",
       "            <td>Manchester United</td>\n",
       "            <td>9</td>\n",
       "        </tr>\n",
       "        <tr>\n",
       "            <td>2014/2015</td>\n",
       "            <td>Manchester United</td>\n",
       "            <td>14</td>\n",
       "        </tr>\n",
       "        <tr>\n",
       "            <td>2015/2016</td>\n",
       "            <td>Manchester United</td>\n",
       "            <td>12</td>\n",
       "        </tr>\n",
       "    </tbody>\n",
       "</table>"
      ],
      "text/plain": [
       "[('2008/2009', 'Manchester United', 16),\n",
       " ('2009/2010', 'Manchester United', 16),\n",
       " ('2010/2011', 'Manchester United', 18),\n",
       " ('2011/2012', 'Manchester United', 15),\n",
       " ('2012/2013', 'Manchester United', 16),\n",
       " ('2013/2014', 'Manchester United', 9),\n",
       " ('2014/2015', 'Manchester United', 14),\n",
       " ('2015/2016', 'Manchester United', 12)]"
      ]
     },
     "execution_count": 11,
     "metadata": {},
     "output_type": "execute_result"
    }
   ],
   "source": [
    "%%sql\n",
    "\n",
    "SELECT m.season, t.team_long_name, COUNT(m.home_team_api_id) AS home_win\n",
    "FROM Team t\n",
    "JOIN Match m ON t.team_api_id = m.home_team_api_id\n",
    "WHERE m.home_team_goal > m.away_team_goal AND t.team_long_name = 'Manchester United'\n",
    "GROUP BY m.season, t.team_long_name;\n"
   ]
  },
  {
   "cell_type": "markdown",
   "id": "0904cd8c",
   "metadata": {},
   "source": [
    "### 8. Number of away wins for Manchester United per season."
   ]
  },
  {
   "cell_type": "code",
   "execution_count": 12,
   "id": "eedfbcb2",
   "metadata": {},
   "outputs": [
    {
     "name": "stdout",
     "output_type": "stream",
     "text": [
      " * sqlite:///D:/project/database.sqlite\n",
      "Done.\n"
     ]
    },
    {
     "data": {
      "text/html": [
       "<table>\n",
       "    <thead>\n",
       "        <tr>\n",
       "            <th>season</th>\n",
       "            <th>team_long_name</th>\n",
       "            <th>away_win</th>\n",
       "        </tr>\n",
       "    </thead>\n",
       "    <tbody>\n",
       "        <tr>\n",
       "            <td>2008/2009</td>\n",
       "            <td>Manchester United</td>\n",
       "            <td>12</td>\n",
       "        </tr>\n",
       "        <tr>\n",
       "            <td>2009/2010</td>\n",
       "            <td>Manchester United</td>\n",
       "            <td>11</td>\n",
       "        </tr>\n",
       "        <tr>\n",
       "            <td>2010/2011</td>\n",
       "            <td>Manchester United</td>\n",
       "            <td>5</td>\n",
       "        </tr>\n",
       "        <tr>\n",
       "            <td>2011/2012</td>\n",
       "            <td>Manchester United</td>\n",
       "            <td>13</td>\n",
       "        </tr>\n",
       "        <tr>\n",
       "            <td>2012/2013</td>\n",
       "            <td>Manchester United</td>\n",
       "            <td>12</td>\n",
       "        </tr>\n",
       "        <tr>\n",
       "            <td>2013/2014</td>\n",
       "            <td>Manchester United</td>\n",
       "            <td>10</td>\n",
       "        </tr>\n",
       "        <tr>\n",
       "            <td>2014/2015</td>\n",
       "            <td>Manchester United</td>\n",
       "            <td>6</td>\n",
       "        </tr>\n",
       "        <tr>\n",
       "            <td>2015/2016</td>\n",
       "            <td>Manchester United</td>\n",
       "            <td>7</td>\n",
       "        </tr>\n",
       "    </tbody>\n",
       "</table>"
      ],
      "text/plain": [
       "[('2008/2009', 'Manchester United', 12),\n",
       " ('2009/2010', 'Manchester United', 11),\n",
       " ('2010/2011', 'Manchester United', 5),\n",
       " ('2011/2012', 'Manchester United', 13),\n",
       " ('2012/2013', 'Manchester United', 12),\n",
       " ('2013/2014', 'Manchester United', 10),\n",
       " ('2014/2015', 'Manchester United', 6),\n",
       " ('2015/2016', 'Manchester United', 7)]"
      ]
     },
     "execution_count": 12,
     "metadata": {},
     "output_type": "execute_result"
    }
   ],
   "source": [
    "%%sql\n",
    "\n",
    "SELECT m.season, t.team_long_name, COUNT(m.away_team_api_id) AS away_win\n",
    "FROM Team t\n",
    "JOIN Match m ON t.team_api_id = m.away_team_api_id\n",
    "WHERE m.home_team_goal < m.away_team_goal AND t.team_long_name = 'Manchester United'\n",
    "GROUP BY m.season, t.team_long_name;"
   ]
  },
  {
   "cell_type": "markdown",
   "id": "232b015b",
   "metadata": {},
   "source": [
    "### 9. Manchester United Goalscoring Performance by Season"
   ]
  },
  {
   "cell_type": "code",
   "execution_count": 13,
   "id": "26fd3998",
   "metadata": {},
   "outputs": [
    {
     "name": "stdout",
     "output_type": "stream",
     "text": [
      " * sqlite:///D:/project/database.sqlite\n",
      "Done.\n"
     ]
    },
    {
     "data": {
      "text/html": [
       "<table>\n",
       "    <thead>\n",
       "        <tr>\n",
       "            <th>season</th>\n",
       "            <th>team_long_name</th>\n",
       "            <th>home_goals</th>\n",
       "            <th>away_goals</th>\n",
       "            <th>total_goals</th>\n",
       "            <th>avg_goals</th>\n",
       "        </tr>\n",
       "    </thead>\n",
       "    <tbody>\n",
       "        <tr>\n",
       "            <td>2008/2009</td>\n",
       "            <td>Manchester United</td>\n",
       "            <td>54</td>\n",
       "            <td>38</td>\n",
       "            <td>92</td>\n",
       "            <td>2.4</td>\n",
       "        </tr>\n",
       "        <tr>\n",
       "            <td>2009/2010</td>\n",
       "            <td>Manchester United</td>\n",
       "            <td>68</td>\n",
       "            <td>46</td>\n",
       "            <td>114</td>\n",
       "            <td>3.0</td>\n",
       "        </tr>\n",
       "        <tr>\n",
       "            <td>2010/2011</td>\n",
       "            <td>Manchester United</td>\n",
       "            <td>74</td>\n",
       "            <td>41</td>\n",
       "            <td>115</td>\n",
       "            <td>3.0</td>\n",
       "        </tr>\n",
       "        <tr>\n",
       "            <td>2011/2012</td>\n",
       "            <td>Manchester United</td>\n",
       "            <td>66</td>\n",
       "            <td>56</td>\n",
       "            <td>122</td>\n",
       "            <td>3.2</td>\n",
       "        </tr>\n",
       "        <tr>\n",
       "            <td>2012/2013</td>\n",
       "            <td>Manchester United</td>\n",
       "            <td>69</td>\n",
       "            <td>60</td>\n",
       "            <td>129</td>\n",
       "            <td>3.4</td>\n",
       "        </tr>\n",
       "        <tr>\n",
       "            <td>2013/2014</td>\n",
       "            <td>Manchester United</td>\n",
       "            <td>51</td>\n",
       "            <td>56</td>\n",
       "            <td>107</td>\n",
       "            <td>2.8</td>\n",
       "        </tr>\n",
       "        <tr>\n",
       "            <td>2014/2015</td>\n",
       "            <td>Manchester United</td>\n",
       "            <td>63</td>\n",
       "            <td>36</td>\n",
       "            <td>99</td>\n",
       "            <td>2.6</td>\n",
       "        </tr>\n",
       "        <tr>\n",
       "            <td>2015/2016</td>\n",
       "            <td>Manchester United</td>\n",
       "            <td>53</td>\n",
       "            <td>31</td>\n",
       "            <td>84</td>\n",
       "            <td>2.2</td>\n",
       "        </tr>\n",
       "    </tbody>\n",
       "</table>"
      ],
      "text/plain": [
       "[('2008/2009', 'Manchester United', 54, 38, 92, 2.4),\n",
       " ('2009/2010', 'Manchester United', 68, 46, 114, 3.0),\n",
       " ('2010/2011', 'Manchester United', 74, 41, 115, 3.0),\n",
       " ('2011/2012', 'Manchester United', 66, 56, 122, 3.2),\n",
       " ('2012/2013', 'Manchester United', 69, 60, 129, 3.4),\n",
       " ('2013/2014', 'Manchester United', 51, 56, 107, 2.8),\n",
       " ('2014/2015', 'Manchester United', 63, 36, 99, 2.6),\n",
       " ('2015/2016', 'Manchester United', 53, 31, 84, 2.2)]"
      ]
     },
     "execution_count": 13,
     "metadata": {},
     "output_type": "execute_result"
    }
   ],
   "source": [
    "%%sql\n",
    "\n",
    "SELECT m.season, t.team_long_name, SUM(m.home_team_goal) AS home_goals, SUM(m.away_team_goal) AS away_goals,\n",
    "SUM(m.home_team_goal + m.away_team_goal) AS total_goals, ROUND(AVG(m.home_team_goal + m.away_team_goal), 1) AS avg_goals\n",
    "FROM  Match m\n",
    "JOIN Team t \n",
    "ON t.team_api_id = m.home_team_api_id OR t.team_api_id = m.away_team_api_id\n",
    "WHERE \n",
    "t.team_long_name = 'Manchester United'\n",
    "GROUP BY \n",
    "t.team_long_name, m.season;\n"
   ]
  },
  {
   "cell_type": "markdown",
   "id": "cbb852dc",
   "metadata": {},
   "source": [
    "### 10. Top 5 teams that lost to Manchester United the most"
   ]
  },
  {
   "cell_type": "code",
   "execution_count": 14,
   "id": "1eee0e28",
   "metadata": {
    "scrolled": true
   },
   "outputs": [
    {
     "name": "stdout",
     "output_type": "stream",
     "text": [
      " * sqlite:///D:/project/database.sqlite\n",
      "Done.\n"
     ]
    },
    {
     "data": {
      "text/html": [
       "<table>\n",
       "    <thead>\n",
       "        <tr>\n",
       "            <th>team</th>\n",
       "            <th>total_losses</th>\n",
       "        </tr>\n",
       "    </thead>\n",
       "    <tbody>\n",
       "        <tr>\n",
       "            <td>Stoke City</td>\n",
       "            <td>12</td>\n",
       "        </tr>\n",
       "        <tr>\n",
       "            <td>Sunderland</td>\n",
       "            <td>11</td>\n",
       "        </tr>\n",
       "        <tr>\n",
       "            <td>Aston Villa</td>\n",
       "            <td>11</td>\n",
       "        </tr>\n",
       "        <tr>\n",
       "            <td>West Ham United</td>\n",
       "            <td>10</td>\n",
       "        </tr>\n",
       "        <tr>\n",
       "            <td>Wigan Athletic</td>\n",
       "            <td>9</td>\n",
       "        </tr>\n",
       "    </tbody>\n",
       "</table>"
      ],
      "text/plain": [
       "[('Stoke City', 12),\n",
       " ('Sunderland', 11),\n",
       " ('Aston Villa', 11),\n",
       " ('West Ham United', 10),\n",
       " ('Wigan Athletic', 9)]"
      ]
     },
     "execution_count": 14,
     "metadata": {},
     "output_type": "execute_result"
    }
   ],
   "source": [
    "%%sql\n",
    "SELECT t.team_long_name AS team, COUNT(t.team_api_id) AS total_losses\n",
    "FROM Team t\n",
    "JOIN Match m\n",
    "ON (t.team_api_id = m.home_team_api_id \n",
    "    AND m.away_team_api_id = (SELECT team_api_id FROM Team WHERE team_long_name = 'Manchester United'))\n",
    "OR (t.team_api_id = m.away_team_api_id\n",
    "    AND m.home_team_api_id = (SELECT team_api_id FROM Team WHERE team_long_name = 'Manchester United'))\n",
    "WHERE\n",
    "    ((m.home_team_goal < m.away_team_goal AND t.team_api_id = m.home_team_api_id)\n",
    "    OR (m.away_team_goal < m.home_team_goal AND t.team_api_id = m.away_team_api_id))\n",
    "    AND m.league_id = 1729\n",
    "GROUP BY\n",
    "    t.team_long_name\n",
    "ORDER BY\n",
    "    total_losses DESC\n",
    "LIMIT 5;"
   ]
  }
 ],
 "metadata": {
  "kernelspec": {
   "display_name": "Python 3 (ipykernel)",
   "language": "python",
   "name": "python3"
  },
  "language_info": {
   "codemirror_mode": {
    "name": "ipython",
    "version": 3
   },
   "file_extension": ".py",
   "mimetype": "text/x-python",
   "name": "python",
   "nbconvert_exporter": "python",
   "pygments_lexer": "ipython3",
   "version": "3.10.9"
  }
 },
 "nbformat": 4,
 "nbformat_minor": 5
}
